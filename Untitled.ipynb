{
 "cells": [
  {
   "cell_type": "code",
   "execution_count": null,
   "metadata": {},
   "outputs": [],
   "source": [
    "print('hello world')"
   ]
  }
 ],
 "metadata": {
  "history": [
   {
    "code": "print('hello world')",
    "id": "e70916e800df45cb8f69a386ba76d52f",
    "idx": 0,
    "time": "2021-02-05T04:37:44.041Z",
    "type": "execution"
   },
   {
    "id": "e70916e800df45cb8f69a386ba76d52f",
    "time": "2021-02-05T04:37:44.122Z",
    "type": "completion"
   }
  ],
  "kernelspec": {
   "display_name": "Python 3",
   "language": "python",
   "name": "python3"
  },
  "language_info": {
   "codemirror_mode": {
    "name": "ipython",
    "version": 3
   },
   "file_extension": ".py",
   "mimetype": "text/x-python",
   "name": "python",
   "nbconvert_exporter": "python",
   "pygments_lexer": "ipython3",
   "version": "3.8.6"
  }
 },
 "nbformat": 4,
 "nbformat_minor": 4
}
